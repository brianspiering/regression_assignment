{
 "cells": [
  {
   "cell_type": "markdown",
   "metadata": {
    "nbgrader": {
     "grade": false,
     "grade_id": "cell-c9363f214009d058",
     "locked": true,
     "schema_version": 3,
     "solution": false,
     "task": false
    }
   },
   "source": [
    "Assignment #1: Regression\n",
    "----\n",
    "\n",
    "<center><img src=\"https://i.imgur.com/s888wFw.png\" width=\"75%\"/></center>\n",
    "\n",
    "Learning Outcomes\n",
    "------\n",
    "\n",
    "__By the end of this assignment, you should be able to__:\n",
    "\n",
    "- Practice applying the Data Science worklflow to a real-world problem.\n",
    "- Fit a regression model with scikit-learn.\n",
    "\n",
    "Data Science Workflow:\n",
    "======\n",
    "\n",
    "1. Ask\n",
    "2. Acquire\n",
    "3. Process\n",
    "4. Model\n",
    "5. Deliver "
   ]
  },
  {
   "cell_type": "markdown",
   "metadata": {
    "nbgrader": {
     "grade": false,
     "grade_id": "cell-3d2307ca02040f85",
     "locked": true,
     "schema_version": 3,
     "solution": false,
     "task": false
    }
   },
   "source": [
    "1) Ask: \n",
    "----\n",
    "\n",
    "Can a linear regression model learn to predict the price of airbnb rentals in San Francisco?"
   ]
  },
  {
   "cell_type": "markdown",
   "metadata": {
    "nbgrader": {
     "grade": false,
     "grade_id": "cell-8056ecf9e33b93ff",
     "locked": true,
     "schema_version": 3,
     "solution": false,
     "task": false
    }
   },
   "source": [
    "2) Acquire\n",
    "----\n",
    "\n",
    "The data was sourced from [airbnb](https://www.airbnb.com/) and converted to a .csv for you."
   ]
  },
  {
   "cell_type": "code",
   "execution_count": 29,
   "metadata": {
    "nbgrader": {
     "grade": false,
     "grade_id": "cell-731b48d24b7aa0d5",
     "locked": true,
     "schema_version": 3,
     "solution": false,
     "task": false
    }
   },
   "outputs": [],
   "source": [
    "import numpy as np\n",
    "import pandas as pd"
   ]
  },
  {
   "cell_type": "code",
   "execution_count": 30,
   "metadata": {
    "nbgrader": {
     "grade": false,
     "grade_id": "cell-324ef894ff771a25",
     "locked": true,
     "schema_version": 3,
     "solution": false,
     "task": false
    }
   },
   "outputs": [
    {
     "name": "stderr",
     "output_type": "stream",
     "text": [
      "/var/folders/jp/_tvsjv2j23q4f6wnb__01z280000gn/T/ipykernel_42946/2872267030.py:10: FutureWarning: The default value of regex will change from True to False in a future version. In addition, single character regular expressions will *not* be treated as literal strings when regex=True.\n",
      "  y_train = np.array(target_raw.str.replace('$', '').str.replace(',', '').astype(float))\n"
     ]
    }
   ],
   "source": [
    "# path = \"../../data/regression/\"\n",
    "path = \"./\"\n",
    "\n",
    "# Load train data - train data has potential features and price as target\n",
    "data_train_raw = pd.read_csv(path+\"train.csv\", low_memory=False)\n",
    "assert \"price\" in data_train_raw.columns\n",
    "\n",
    "target_raw = data_train_raw.pop('price')\n",
    "# Convert `price` as a string with dollar signs and commas to a float.\n",
    "y_train = np.array(target_raw.str.replace('$', '').str.replace(',', '').astype(float))\n",
    "\n",
    "# Keep track of the number of instances\n",
    "n_rows_input = data_train_raw.shape[0]"
   ]
  },
  {
   "cell_type": "markdown",
   "metadata": {
    "nbgrader": {
     "grade": false,
     "grade_id": "cell-fbb3706092d34e3c",
     "locked": true,
     "schema_version": 3,
     "solution": false,
     "task": false
    }
   },
   "source": [
    "3) Process\n",
    "-----"
   ]
  },
  {
   "cell_type": "code",
   "execution_count": 31,
   "metadata": {
    "code_folding": [],
    "nbgrader": {
     "grade": false,
     "grade_id": "cell-deb6f56fb49678e5",
     "locked": false,
     "schema_version": 3,
     "solution": true,
     "task": false
    }
   },
   "outputs": [],
   "source": [
    "def process_data(data):\n",
    "    \"\"\"Feature engineering & feature selection\n",
    "    The input parameter and return value have the same name. All processing should happen inplace.\n",
    "    \"\"\"\n",
    "\n",
    "    ### BEGIN SOLUTION\n",
    "\n",
    "    # Replace with NaN with median (because of skewed data)\n",
    "    data['reviews_per_month'].fillna(data['reviews_per_month'].median(), inplace=True)\n",
    "    data['review_scores_rating'].fillna(data['review_scores_rating'].median(), inplace=True)\n",
    "    data['host_response_rate'] = data['host_response_rate'].str.replace('%', '').astype(float)\n",
    "    data['host_response_rate'].fillna(data['host_response_rate'].median(), inplace=True)\n",
    "    # data['cleaning_fee'] = data['cleaning_fee'].str.replace('$', '').astype(float)\n",
    "    # data['cleaning_fee'].fillna(data['cleaning_fee'].median(), inplace=True)\n",
    "    # data['security_deposit'] = data[\"security_deposit\"].str.replace('$', '').str.replace(',', '').astype(float)\n",
    "    # data['security_deposit'].fillna(data['security_deposit'].median(), inplace=True)\n",
    "    \n",
    "    cols_to_keep = [\n",
    "                    # 'cleaning_fee',\n",
    "                    'host_response_rate',\n",
    "                    # 'security_deposit', \n",
    "                    'number_of_reviews',\n",
    "                    'maximum_nights', \n",
    "                    'minimum_nights',\n",
    "                    'reviews_per_month',\n",
    "                    'review_scores_rating']\n",
    "\n",
    "    data = data[cols_to_keep]\n",
    "    \n",
    "    ### END SOLUTION\n",
    "    \n",
    "    return data"
   ]
  },
  {
   "cell_type": "code",
   "execution_count": 32,
   "metadata": {
    "nbgrader": {
     "grade": true,
     "grade_id": "cell-6752d2be2527fe4f",
     "locked": true,
     "points": 2,
     "schema_version": 3,
     "solution": false,
     "task": false
    }
   },
   "outputs": [],
   "source": [
    "\"\"\"\n",
    "2 points\n",
    "Test code for the 'process_data' function. \n",
    "This cell should NOT give any errors when it is run.\n",
    "\"\"\"\n",
    "\n",
    "data_train = process_data(data_train_raw)\n",
    "\n",
    "# Double check the type is still a pd.DataFrame\n",
    "assert type(data_train) == pd.core.frame.DataFrame\n",
    "# Double check no rows where drop. Dropping which will break test data performance.\n",
    "assert data_train.shape[0] == n_rows_input "
   ]
  },
  {
   "cell_type": "code",
   "execution_count": 33,
   "metadata": {
    "nbgrader": {
     "grade": false,
     "grade_id": "cell-7d7aa59f5e8d74ef",
     "locked": true,
     "schema_version": 3,
     "solution": false,
     "task": false
    }
   },
   "outputs": [],
   "source": [
    "# Convert from pandas.DataFrame (tabular) to numpy.array (matrix)\n",
    "X_train = np.array(data_train)"
   ]
  },
  {
   "cell_type": "markdown",
   "metadata": {
    "nbgrader": {
     "grade": false,
     "grade_id": "cell-1fc2e1e6a0a94b79",
     "locked": true,
     "schema_version": 3,
     "solution": false,
     "task": false
    }
   },
   "source": [
    "4) Model\n",
    "-----\n",
    "\n",
    "Only use scikit-learn's [Generalized Linear Models (GLM)](https://scikit-learn.org/stable/modules/linear_model.html). No other models are allowed.\n",
    "\n",
    "No automatic hyperparameter search is allowed in final submitted code, thus no model with `CV` suffix. "
   ]
  },
  {
   "cell_type": "code",
   "execution_count": 34,
   "metadata": {
    "nbgrader": {
     "grade": false,
     "grade_id": "cell-7c113bb80a2fe882",
     "locked": true,
     "schema_version": 3,
     "solution": false,
     "task": false
    }
   },
   "outputs": [],
   "source": [
    "from sklearn import linear_model"
   ]
  },
  {
   "cell_type": "code",
   "execution_count": 35,
   "metadata": {
    "nbgrader": {
     "grade": false,
     "grade_id": "cell-f6f64bbc2fcb416a",
     "locked": false,
     "schema_version": 3,
     "solution": true,
     "task": false
    }
   },
   "outputs": [
    {
     "name": "stderr",
     "output_type": "stream",
     "text": [
      "/Users/brian/anaconda3/lib/python3.9/site-packages/sklearn/linear_model/_huber.py:342: ConvergenceWarning: lbfgs failed to converge (status=1):\n",
      "STOP: TOTAL NO. of ITERATIONS REACHED LIMIT.\n",
      "\n",
      "Increase the number of iterations (max_iter) or scale the data as shown in:\n",
      "    https://scikit-learn.org/stable/modules/preprocessing.html\n",
      "  self.n_iter_ = _check_optimize_result(\"lbfgs\", opt_res, self.max_iter)\n"
     ]
    },
    {
     "data": {
      "text/html": [
       "<style>#sk-container-id-3 {color: black;background-color: white;}#sk-container-id-3 pre{padding: 0;}#sk-container-id-3 div.sk-toggleable {background-color: white;}#sk-container-id-3 label.sk-toggleable__label {cursor: pointer;display: block;width: 100%;margin-bottom: 0;padding: 0.3em;box-sizing: border-box;text-align: center;}#sk-container-id-3 label.sk-toggleable__label-arrow:before {content: \"▸\";float: left;margin-right: 0.25em;color: #696969;}#sk-container-id-3 label.sk-toggleable__label-arrow:hover:before {color: black;}#sk-container-id-3 div.sk-estimator:hover label.sk-toggleable__label-arrow:before {color: black;}#sk-container-id-3 div.sk-toggleable__content {max-height: 0;max-width: 0;overflow: hidden;text-align: left;background-color: #f0f8ff;}#sk-container-id-3 div.sk-toggleable__content pre {margin: 0.2em;color: black;border-radius: 0.25em;background-color: #f0f8ff;}#sk-container-id-3 input.sk-toggleable__control:checked~div.sk-toggleable__content {max-height: 200px;max-width: 100%;overflow: auto;}#sk-container-id-3 input.sk-toggleable__control:checked~label.sk-toggleable__label-arrow:before {content: \"▾\";}#sk-container-id-3 div.sk-estimator input.sk-toggleable__control:checked~label.sk-toggleable__label {background-color: #d4ebff;}#sk-container-id-3 div.sk-label input.sk-toggleable__control:checked~label.sk-toggleable__label {background-color: #d4ebff;}#sk-container-id-3 input.sk-hidden--visually {border: 0;clip: rect(1px 1px 1px 1px);clip: rect(1px, 1px, 1px, 1px);height: 1px;margin: -1px;overflow: hidden;padding: 0;position: absolute;width: 1px;}#sk-container-id-3 div.sk-estimator {font-family: monospace;background-color: #f0f8ff;border: 1px dotted black;border-radius: 0.25em;box-sizing: border-box;margin-bottom: 0.5em;}#sk-container-id-3 div.sk-estimator:hover {background-color: #d4ebff;}#sk-container-id-3 div.sk-parallel-item::after {content: \"\";width: 100%;border-bottom: 1px solid gray;flex-grow: 1;}#sk-container-id-3 div.sk-label:hover label.sk-toggleable__label {background-color: #d4ebff;}#sk-container-id-3 div.sk-serial::before {content: \"\";position: absolute;border-left: 1px solid gray;box-sizing: border-box;top: 0;bottom: 0;left: 50%;z-index: 0;}#sk-container-id-3 div.sk-serial {display: flex;flex-direction: column;align-items: center;background-color: white;padding-right: 0.2em;padding-left: 0.2em;position: relative;}#sk-container-id-3 div.sk-item {position: relative;z-index: 1;}#sk-container-id-3 div.sk-parallel {display: flex;align-items: stretch;justify-content: center;background-color: white;position: relative;}#sk-container-id-3 div.sk-item::before, #sk-container-id-3 div.sk-parallel-item::before {content: \"\";position: absolute;border-left: 1px solid gray;box-sizing: border-box;top: 0;bottom: 0;left: 50%;z-index: -1;}#sk-container-id-3 div.sk-parallel-item {display: flex;flex-direction: column;z-index: 1;position: relative;background-color: white;}#sk-container-id-3 div.sk-parallel-item:first-child::after {align-self: flex-end;width: 50%;}#sk-container-id-3 div.sk-parallel-item:last-child::after {align-self: flex-start;width: 50%;}#sk-container-id-3 div.sk-parallel-item:only-child::after {width: 0;}#sk-container-id-3 div.sk-dashed-wrapped {border: 1px dashed gray;margin: 0 0.4em 0.5em 0.4em;box-sizing: border-box;padding-bottom: 0.4em;background-color: white;}#sk-container-id-3 div.sk-label label {font-family: monospace;font-weight: bold;display: inline-block;line-height: 1.2em;}#sk-container-id-3 div.sk-label-container {text-align: center;}#sk-container-id-3 div.sk-container {/* jupyter's `normalize.less` sets `[hidden] { display: none; }` but bootstrap.min.css set `[hidden] { display: none !important; }` so we also need the `!important` here to be able to override the default hidden behavior on the sphinx rendered scikit-learn.org. See: https://github.com/scikit-learn/scikit-learn/issues/21755 */display: inline-block !important;position: relative;}#sk-container-id-3 div.sk-text-repr-fallback {display: none;}</style><div id=\"sk-container-id-3\" class=\"sk-top-container\"><div class=\"sk-text-repr-fallback\"><pre>HuberRegressor(alpha=0.1, epsilon=2, max_iter=50)</pre><b>In a Jupyter environment, please rerun this cell to show the HTML representation or trust the notebook. <br />On GitHub, the HTML representation is unable to render, please try loading this page with nbviewer.org.</b></div><div class=\"sk-container\" hidden><div class=\"sk-item\"><div class=\"sk-estimator sk-toggleable\"><input class=\"sk-toggleable__control sk-hidden--visually\" id=\"sk-estimator-id-3\" type=\"checkbox\" checked><label for=\"sk-estimator-id-3\" class=\"sk-toggleable__label sk-toggleable__label-arrow\">HuberRegressor</label><div class=\"sk-toggleable__content\"><pre>HuberRegressor(alpha=0.1, epsilon=2, max_iter=50)</pre></div></div></div></div></div>"
      ],
      "text/plain": [
       "HuberRegressor(alpha=0.1, epsilon=2, max_iter=50)"
      ]
     },
     "execution_count": 35,
     "metadata": {},
     "output_type": "execute_result"
    }
   ],
   "source": [
    "# Fit simple LR\n",
    "lm = linear_model.LinearRegression() # TODO: Replace with your choice of algorithm and hyperparameters \n",
    "lm.fit(X_train, y_train) # Train model\n",
    "\n",
    "### BEGIN SOLUTION\n",
    "\n",
    "lm =  linear_model.HuberRegressor(                # Choose Huber Regression because it is robust to outliers.\n",
    "                                    epsilon=2,    # Increase epsilon so outliers have less impact.\n",
    "                                    max_iter=50,  # Decrease training time increases training performance.\n",
    "                                    alpha=.1)     # Increase regularization to increase chance of generalization.\n",
    "# Note that X values are not normalized. Will discuss why on feature engineering day.\n",
    "lm.fit(X_train, y_train)\n",
    "\n",
    "### END SOLUTION"
   ]
  },
  {
   "cell_type": "code",
   "execution_count": 36,
   "metadata": {
    "nbgrader": {
     "grade": true,
     "grade_id": "cell-fd1e63389ff710b0",
     "locked": true,
     "points": 1,
     "schema_version": 3,
     "solution": false,
     "task": false
    }
   },
   "outputs": [],
   "source": [
    "\"\"\"\n",
    "1 point\n",
    "Test for valid model type.\n",
    "This cell should NOT give any errors when it is run.\n",
    "\"\"\"\n",
    "\n",
    "assert str(type(lm)).split(\".\")[1] == 'linear_model'\n",
    "assert str(type(lm)).split(\".\")[-1].count('CV') == 0"
   ]
  },
  {
   "cell_type": "markdown",
   "metadata": {
    "nbgrader": {
     "grade": false,
     "grade_id": "cell-a9697d9be3401ad4",
     "locked": true,
     "schema_version": 3,
     "solution": false,
     "task": false
    }
   },
   "source": [
    "Model Evaluation\n",
    "------"
   ]
  },
  {
   "cell_type": "markdown",
   "metadata": {
    "nbgrader": {
     "grade": false,
     "grade_id": "cell-c9480ca6059a9054",
     "locked": true,
     "schema_version": 3,
     "solution": false,
     "task": false
    }
   },
   "source": [
    "__Root Mean Squared Logarithmic Error__\n",
    "\n",
    "$$ RMSLE = \\sqrt{\\frac{1}{n}\\sum_{i=1}(log(p_i + 1) - log(a_i + 1))^2}$$\n",
    "\n",
    "p = predicted\n",
    "\n",
    "a = actual"
   ]
  },
  {
   "cell_type": "code",
   "execution_count": 37,
   "metadata": {
    "nbgrader": {
     "grade": false,
     "grade_id": "cell-8d2ba9a584c260d5",
     "locked": true,
     "schema_version": 3,
     "solution": false,
     "task": false
    }
   },
   "outputs": [],
   "source": [
    "def rmlse(target_true, target_predicted):\n",
    "    \"Root Mean Squared Logarithmic Error\"\n",
    "    \n",
    "    assert len(target_true) == len(target_predicted), \"True and predicted targets need to be the same length\"\n",
    "\n",
    "    log_diff = np.log1p(target_predicted + 1) - np.log1p(target_true + 1)\n",
    "    return np.sqrt(np.mean(np.power(log_diff, 2)))"
   ]
  },
  {
   "cell_type": "code",
   "execution_count": 38,
   "metadata": {
    "nbgrader": {
     "grade": false,
     "grade_id": "cell-d2258321f7b23c27",
     "locked": true,
     "schema_version": 3,
     "solution": false,
     "task": false
    }
   },
   "outputs": [
    {
     "name": "stdout",
     "output_type": "stream",
     "text": [
      "0.6576 rmlse on training set\n"
     ]
    }
   ],
   "source": [
    "rmlse_value = rmlse(lm.predict(X_train), y_train)\n",
    "print(f\"{rmlse_value:.4f} rmlse on training set\")"
   ]
  },
  {
   "cell_type": "markdown",
   "metadata": {
    "nbgrader": {
     "grade": false,
     "grade_id": "cell-9c730c133440212b",
     "locked": true,
     "schema_version": 3,
     "solution": false,
     "task": false
    }
   },
   "source": [
    "__Median Absolute Error__\n",
    "\n",
    "$$\\text{MedAE} = \\text{median}(\\mid p_1 - a_1 \\mid, \\ldots, \\mid p_n - a_n \\mid)$$"
   ]
  },
  {
   "cell_type": "code",
   "execution_count": 39,
   "metadata": {
    "nbgrader": {
     "grade": false,
     "grade_id": "cell-28c6b14a13ff0571",
     "locked": true,
     "schema_version": 3,
     "solution": false,
     "task": false
    }
   },
   "outputs": [
    {
     "name": "stdout",
     "output_type": "stream",
     "text": [
      "58.7755 medae on training set\n"
     ]
    }
   ],
   "source": [
    "from sklearn import metrics\n",
    "\n",
    "medae_value = metrics.median_absolute_error(y_train, lm.predict(X_train))\n",
    "print(f\"{medae_value:.4f} medae on training set\")"
   ]
  },
  {
   "cell_type": "markdown",
   "metadata": {
    "nbgrader": {
     "grade": false,
     "grade_id": "cell-394a7d6cf97cf515",
     "locked": true,
     "schema_version": 3,
     "solution": false,
     "task": false
    }
   },
   "source": [
    "5) Deliver\n",
    "-----\n",
    "\n",
    "How well can your model predict the test data?"
   ]
  },
  {
   "cell_type": "code",
   "execution_count": 40,
   "metadata": {
    "nbgrader": {
     "grade": false,
     "grade_id": "cell-643e6003f606f018",
     "locked": true,
     "schema_version": 3,
     "solution": false,
     "task": false
    }
   },
   "outputs": [],
   "source": [
    "# Load test data - test data only has potential features, no price as target\n",
    "data_test_raw = pd.read_csv(path+\"test.csv\", low_memory=False)\n",
    "assert not \"price\" in data_test_raw.columns\n",
    "\n",
    "n_rows_input = data_test_raw.shape[0]"
   ]
  },
  {
   "cell_type": "code",
   "execution_count": 41,
   "metadata": {
    "nbgrader": {
     "grade": true,
     "grade_id": "cell-e55dbc0907cbd9df",
     "locked": true,
     "points": 2,
     "schema_version": 3,
     "solution": false,
     "task": false
    }
   },
   "outputs": [],
   "source": [
    "\"\"\"\n",
    "2 points\n",
    "Test code for the 'process_data' function. \n",
    "This cell should NOT give any errors when it is run.\n",
    "\"\"\"\n",
    "\n",
    "data_test = process_data(data_test_raw)\n",
    "\n",
    "# Double check the type is still a pd.DataFrame\n",
    "assert type(data_test) == pd.core.frame.DataFrame\n",
    "\n",
    "# Double check not dropping any rows which will break test data\n",
    "assert data_test.shape[0] == n_rows_input "
   ]
  },
  {
   "cell_type": "code",
   "execution_count": 42,
   "metadata": {
    "nbgrader": {
     "grade": false,
     "grade_id": "cell-2873423195d8b782",
     "locked": true,
     "schema_version": 3,
     "solution": false,
     "task": false
    }
   },
   "outputs": [
    {
     "name": "stdout",
     "output_type": "stream",
     "text": [
      "13.4398 medae on median test set\n"
     ]
    }
   ],
   "source": [
    "# Performance on median benchmark (mock test dataset)\n",
    "# Sanity-check that your model can generate predicts in the correct form for actual test dataset.\n",
    "# Your performance on the median data is not a good indicator of preformance on actual test dataset.\n",
    "\n",
    "X_test = np.array(data_test)\n",
    "\n",
    "test_solutions = pd.read_csv(path+'median_benchmark.csv') \n",
    "y_median = test_solutions['median_price']\n",
    "\n",
    "medae_value = metrics.median_absolute_error(y_median, lm.predict(X_test))\n",
    "print(f\"{medae_value:.4f} medae on median test set\")"
   ]
  },
  {
   "cell_type": "code",
   "execution_count": 43,
   "metadata": {
    "nbgrader": {
     "grade": true,
     "grade_id": "cell-35da6713b87cd5f3",
     "locked": true,
     "points": 1,
     "schema_version": 3,
     "solution": false,
     "task": false
    }
   },
   "outputs": [
    {
     "data": {
      "text/plain": [
       "\"\\n1 point for medae less than 100 on test dataset.\\nTests are hidden since you don't have access to test targets.\\n\""
      ]
     },
     "execution_count": 43,
     "metadata": {},
     "output_type": "execute_result"
    }
   ],
   "source": [
    "\"\"\"\n",
    "1 point for medae less than 100 on test dataset.\n",
    "Tests are hidden since you don't have access to test targets.\n",
    "\"\"\"\n",
    "\n",
    "### BEGIN HIDDEN TESTS\n",
    "\n",
    "# # Performance on test set\n",
    "# test_solutions = pd.read_csv(path+'/instructor/test_solutions.csv')\n",
    "# y_test = test_solutions['price']\n",
    "# medae_value = metrics.median_absolute_error(y_test, lm.predict(X_test))\n",
    "# print(f\"{medae_value:.4f} medae on test set\")\n",
    "\n",
    "# assert medae_value < 100\n",
    "#### END HIDDEN TESTS \n"
   ]
  },
  {
   "cell_type": "code",
   "execution_count": 44,
   "metadata": {
    "nbgrader": {
     "grade": true,
     "grade_id": "cell-5c925fd8ed13a50d",
     "locked": true,
     "points": 1,
     "schema_version": 3,
     "solution": false,
     "task": false
    }
   },
   "outputs": [],
   "source": [
    "\"\"\"\n",
    "1 point for medae less than 90 on test dataset.\n",
    "Tests are hidden since you don't have access to test targets.\n",
    "\"\"\"\n",
    "\n",
    "### BEGIN HIDDEN TESTS\n",
    "assert medae_value < 90\n",
    "#### END HIDDEN TESTS \n"
   ]
  },
  {
   "cell_type": "code",
   "execution_count": 45,
   "metadata": {
    "nbgrader": {
     "grade": true,
     "grade_id": "cell-a0b6392f840b1579",
     "locked": true,
     "points": 1,
     "schema_version": 3,
     "solution": false,
     "task": false
    }
   },
   "outputs": [],
   "source": [
    "\"\"\"\n",
    "1 point for medae less than 80 on test dataset.\n",
    "Tests are hidden since you don't have access to test targets.\n",
    "\"\"\"\n",
    "\n",
    "### BEGIN HIDDEN TESTS\n",
    "assert medae_value < 80\n",
    "#### END HIDDEN TESTS \n"
   ]
  },
  {
   "cell_type": "code",
   "execution_count": 46,
   "metadata": {
    "nbgrader": {
     "grade": true,
     "grade_id": "cell-018a661db1c0c1e8",
     "locked": true,
     "points": 1,
     "schema_version": 3,
     "solution": false,
     "task": false
    }
   },
   "outputs": [],
   "source": [
    "\"\"\"\n",
    "1 point for medae less than 70 on test dataset.\n",
    "Tests are hidden since you don't have access to test targets.\n",
    "\"\"\"\n",
    "\n",
    "### BEGIN HIDDEN TESTS\n",
    "assert medae_value < 70\n",
    "#### END HIDDEN TESTS \n"
   ]
  },
  {
   "cell_type": "code",
   "execution_count": 47,
   "metadata": {
    "nbgrader": {
     "grade": true,
     "grade_id": "cell-6707d9310b5f9f92",
     "locked": true,
     "points": 1,
     "schema_version": 3,
     "solution": false,
     "task": false
    }
   },
   "outputs": [],
   "source": [
    "\"\"\"\n",
    "1 point for medae less than 60 on test dataset.\n",
    "Tests are hidden since you don't have access to test targets.\n",
    "\"\"\"\n",
    "\n",
    "### BEGIN HIDDEN TESTS\n",
    "assert medae_value < 60\n",
    "#### END HIDDEN TESTS \n"
   ]
  },
  {
   "cell_type": "markdown",
   "metadata": {
    "nbgrader": {
     "grade": false,
     "grade_id": "cell-3b4c323cbe454ef4",
     "locked": true,
     "schema_version": 3,
     "solution": false,
     "task": false
    }
   },
   "source": [
    "Helpful Hints\n",
    "------\n",
    "\n",
    "- The primary deliverables are `process_data` function and a single linear model, aka `lm`. There should be no other code in the notebook, including visualizations or hyperparameter search code.\n",
    "- Suggested steps (deliverable / nondeliverable)\n",
    "    1. Exploratory data analysis (EDA) (nondeliverable)\n",
    "    2. Process data to create features (deliverable)\n",
    "    3. Search for model, hyperparamter, parameters (nondeliverable)\n",
    "    4. Select single algorithm with single set of hyperparamter (deliverable)\n",
    "- There are __no__ tricks to doing well on the test dataset. This assignment requires fundamental machine learning skills:\n",
    "    - Domain and data knowledge\n",
    "    - Feature engineering and feature selection\n",
    "    - Model selection and hyperparameter tuning\n",
    "- Domain knowledge is always important - Check out [airbnb San Francisco listings](https://www.airbnb.com/a/San-Francisco--California--United-States) to understand the data.\n",
    "- Use your EDA skills. Create a separate notebook for EDA.\n",
    "- Clean data is better than dirty data.\n",
    "- Think deeply about the data. What potential issues will arise with modeling this data with a linear regression algorithm?\n",
    "- High quality regression results often require hand-tuning of features and model hyperparameters.\n",
    "- Academic Integrity reminder - Use only course notes and package (scikit-learn, pandas, …) documentation for this assignment. You should __not__ be googling for help. You should be working independently."
   ]
  },
  {
   "cell_type": "markdown",
   "metadata": {
    "nbgrader": {
     "grade": false,
     "grade_id": "cell-54fca80f770417f2",
     "locked": true,
     "schema_version": 3,
     "solution": false,
     "task": false
    }
   },
   "source": [
    "<br>\n",
    "<br> \n",
    "<br>\n",
    "\n",
    "----"
   ]
  }
 ],
 "metadata": {
  "celltoolbar": "Create Assignment",
  "kernelspec": {
   "display_name": "Python 3",
   "language": "python",
   "name": "python3"
  },
  "language_info": {
   "codemirror_mode": {
    "name": "ipython",
    "version": 3
   },
   "file_extension": ".py",
   "mimetype": "text/x-python",
   "name": "python",
   "nbconvert_exporter": "python",
   "pygments_lexer": "ipython3",
   "version": "3.9.16"
  },
  "toc": {
   "base_numbering": 1,
   "nav_menu": {},
   "number_sections": false,
   "sideBar": false,
   "skip_h1_title": false,
   "title_cell": "Table of Contents",
   "title_sidebar": "Contents",
   "toc_cell": true,
   "toc_position": {},
   "toc_section_display": true,
   "toc_window_display": false
  },
  "vscode": {
   "interpreter": {
    "hash": "c567496a6413425655080d7b014a7d55b5ef6a4fe3c1eac246455077b85b9e2c"
   }
  }
 },
 "nbformat": 4,
 "nbformat_minor": 2
}
